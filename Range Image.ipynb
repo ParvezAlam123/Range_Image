{
 "cells": [
  {
   "cell_type": "code",
   "execution_count": 55,
   "id": "0bac1bfc",
   "metadata": {},
   "outputs": [],
   "source": [
    "import open3d as o3d \n",
    "import os \n",
    "import numpy as np\n",
    "import math\n",
    "import cv2\n",
    "import matplotlib.pyplot as plt"
   ]
  },
  {
   "cell_type": "code",
   "execution_count": 56,
   "id": "3223547a",
   "metadata": {},
   "outputs": [],
   "source": [
    "path = os.path.join(os.getcwd(), \"Data/Dataset/training/SteeringData/1671529919.181536198.pcd\")\n"
   ]
  },
  {
   "cell_type": "code",
   "execution_count": 57,
   "id": "907ff50c",
   "metadata": {},
   "outputs": [],
   "source": [
    "pcd = np.asarray(o3d.io.read_point_cloud(path).points)   "
   ]
  },
  {
   "cell_type": "code",
   "execution_count": 58,
   "id": "5d24ba64",
   "metadata": {},
   "outputs": [],
   "source": [
    "image = np.zeros((64, 1024))\n",
    "N, _ = pcd.shape\n",
    "FOV_UP = 2\n",
    "FOV_DOWN = -24.8\n",
    "FOV = FOV_UP - FOV_DOWN"
   ]
  },
  {
   "cell_type": "code",
   "execution_count": 59,
   "id": "e2247897",
   "metadata": {},
   "outputs": [],
   "source": [
    "for i in range(N):\n",
    "    x, y, z = pcd[i][0], pcd[i][1], pcd[i][2]\n",
    "    r = math.sqrt(x**2+y**2+z**2)\n",
    "    pitch = math.asin(z/r) * (180/np.pi)\n",
    "    yaw = math.atan(y/x) * (180/np.pi)\n",
    "    \n",
    "    u =  math.floor(64 * ((FOV_UP - pitch ) / FOV))\n",
    "    v =  math.floor(1024 * ((yaw + 180) / 360))\n",
    "    \n",
    "    image[u][v] = r\n",
    "   \n",
    "    \n",
    "    \n"
   ]
  },
  {
   "cell_type": "code",
   "execution_count": 63,
   "id": "c90c1481",
   "metadata": {},
   "outputs": [
    {
     "data": {
      "text/plain": [
       "<matplotlib.image.AxesImage at 0x7f5054a5f8e0>"
      ]
     },
     "execution_count": 63,
     "metadata": {},
     "output_type": "execute_result"
    },
    {
     "data": {
      "image/png": "[encoded data removed]",
      "text/plain": [
       "<Figure size 432x288 with 1 Axes>"
      ]
     },
     "metadata": {
      "needs_background": "light"
     },
     "output_type": "display_data"
    }
   ],
   "source": [
    "plt.imshow(image, cmap=\"Greys\")"
   ]
  },
  {
   "cell_type": "code",
   "execution_count": null,
   "id": "ae10b599",
   "metadata": {},
   "outputs": [],
   "source": []
  }
 ],
 "metadata": {
  "kernelspec": {
   "display_name": "Python 3 (ipykernel)",
   "language": "python",
   "name": "python3"
  },
  "language_info": {
   "codemirror_mode": {
    "name": "ipython",
    "version": 3
   },
   "file_extension": ".py",
   "mimetype": "text/x-python",
   "name": "python",
   "nbconvert_exporter": "python",
   "pygments_lexer": "ipython3",
   "version": "3.8.10"
  }
 },
 "nbformat": 4,
 "nbformat_minor": 5
}
